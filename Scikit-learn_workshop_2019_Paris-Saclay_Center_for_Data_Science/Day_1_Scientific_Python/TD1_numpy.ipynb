{
 "cells": [
  {
   "cell_type": "code",
   "execution_count": 1,
   "metadata": {},
   "outputs": [],
   "source": [
    "import numpy as np"
   ]
  },
  {
   "cell_type": "code",
   "execution_count": 3,
   "metadata": {},
   "outputs": [
    {
     "name": "stdout",
     "output_type": "stream",
     "text": [
      "[2 1 3]\n"
     ]
    }
   ],
   "source": [
    "x = np.array([2,1,3])\n",
    "print(x)"
   ]
  },
  {
   "cell_type": "markdown",
   "metadata": {},
   "source": [
    "hello"
   ]
  },
  {
   "cell_type": "code",
   "execution_count": 6,
   "metadata": {},
   "outputs": [
    {
     "name": "stdout",
     "output_type": "stream",
     "text": [
      "575 µs ± 1.37 µs per loop (mean ± std. dev. of 7 runs, 1000 loops each)\n"
     ]
    }
   ],
   "source": [
    "# list\n",
    "L = range(1000)\n",
    "%timeit [i**2 for i in L]"
   ]
  },
  {
   "cell_type": "code",
   "execution_count": 9,
   "metadata": {},
   "outputs": [
    {
     "name": "stdout",
     "output_type": "stream",
     "text": [
      "9.1 µs ± 54.9 ns per loop (mean ± std. dev. of 7 runs, 100000 loops each)\n"
     ]
    }
   ],
   "source": [
    "a = np.arange(1000)\n",
    "%timeit a**2"
   ]
  },
  {
   "cell_type": "code",
   "execution_count": 10,
   "metadata": {},
   "outputs": [
    {
     "data": {
      "text/plain": [
       "array([1., 1., 1., 1., 1.])"
      ]
     },
     "execution_count": 10,
     "metadata": {},
     "output_type": "execute_result"
    }
   ],
   "source": [
    "np.ones(5)"
   ]
  },
  {
   "cell_type": "code",
   "execution_count": 11,
   "metadata": {},
   "outputs": [
    {
     "data": {
      "text/plain": [
       "array([0., 0., 0., 0., 0.])"
      ]
     },
     "execution_count": 11,
     "metadata": {},
     "output_type": "execute_result"
    }
   ],
   "source": [
    "np.zeros(5)"
   ]
  },
  {
   "cell_type": "code",
   "execution_count": 14,
   "metadata": {},
   "outputs": [
    {
     "data": {
      "text/plain": [
       "array([[1, 2],\n",
       "       [3, 4]])"
      ]
     },
     "execution_count": 14,
     "metadata": {},
     "output_type": "execute_result"
    }
   ],
   "source": [
    "np.array([[1,2],[3,4]])"
   ]
  },
  {
   "cell_type": "code",
   "execution_count": 17,
   "metadata": {},
   "outputs": [],
   "source": [
    "data = np.loadtxt(fname='data/inflammation-01.csv', delimiter=',')"
   ]
  },
  {
   "cell_type": "code",
   "execution_count": 20,
   "metadata": {},
   "outputs": [
    {
     "data": {
      "text/plain": [
       "array([[0., 0., 1., ..., 3., 0., 0.],\n",
       "       [0., 1., 2., ..., 1., 0., 1.],\n",
       "       [0., 1., 1., ..., 2., 1., 1.],\n",
       "       ...,\n",
       "       [0., 1., 1., ..., 1., 1., 1.],\n",
       "       [0., 0., 0., ..., 0., 2., 0.],\n",
       "       [0., 0., 1., ..., 1., 1., 0.]])"
      ]
     },
     "execution_count": 20,
     "metadata": {},
     "output_type": "execute_result"
    }
   ],
   "source": [
    "data"
   ]
  },
  {
   "cell_type": "code",
   "execution_count": 21,
   "metadata": {},
   "outputs": [
    {
     "name": "stdout",
     "output_type": "stream",
     "text": [
      "[[0. 0. 1. ... 3. 0. 0.]\n",
      " [0. 1. 2. ... 1. 0. 1.]\n",
      " [0. 1. 1. ... 2. 1. 1.]\n",
      " ...\n",
      " [0. 1. 1. ... 1. 1. 1.]\n",
      " [0. 0. 0. ... 0. 2. 0.]\n",
      " [0. 0. 1. ... 1. 1. 0.]]\n"
     ]
    }
   ],
   "source": [
    "print(data)"
   ]
  },
  {
   "cell_type": "code",
   "execution_count": 22,
   "metadata": {},
   "outputs": [
    {
     "name": "stdout",
     "output_type": "stream",
     "text": [
      "float64\n"
     ]
    }
   ],
   "source": [
    "print(data.dtype)"
   ]
  },
  {
   "cell_type": "code",
   "execution_count": 23,
   "metadata": {},
   "outputs": [
    {
     "name": "stdout",
     "output_type": "stream",
     "text": [
      "(60, 40)\n"
     ]
    }
   ],
   "source": [
    "print(data.shape)"
   ]
  },
  {
   "cell_type": "code",
   "execution_count": 24,
   "metadata": {},
   "outputs": [],
   "source": [
    "import matplotlib.pylab as plt"
   ]
  },
  {
   "cell_type": "code",
   "execution_count": 28,
   "metadata": {},
   "outputs": [
    {
     "data": {
      "image/png": "[encoded data removed]",
      "text/plain": [
       "<Figure size 432x288 with 1 Axes>"
      ]
     },
     "metadata": {
      "needs_background": "light"
     },
     "output_type": "display_data"
    },
    {
     "name": "stdout",
     "output_type": "stream",
     "text": [
      "16 µs ± 8.69 µs per loop (mean ± std. dev. of 7 runs, 1 loop each)\n"
     ]
    }
   ],
   "source": [
    "plt.imshow(data)\n",
    "plt.show()"
   ]
  },
  {
   "cell_type": "code",
   "execution_count": 26,
   "metadata": {},
   "outputs": [],
   "source": [
    "#to display picture directly in notebook\n",
    "%matplotlib inline"
   ]
  },
  {
   "cell_type": "code",
   "execution_count": 27,
   "metadata": {},
   "outputs": [
    {
     "data": {
      "text/plain": [
       "<matplotlib.image.AxesImage at 0x7ff47fcd7400>"
      ]
     },
     "execution_count": 27,
     "metadata": {},
     "output_type": "execute_result"
    },
    {
     "data": {
      "image/png": "[encoded data removed]",
      "text/plain": [
       "<Figure size 432x288 with 1 Axes>"
      ]
     },
     "metadata": {
      "needs_background": "light"
     },
     "output_type": "display_data"
    }
   ],
   "source": [
    "plt.imshow(data)"
   ]
  },
  {
   "cell_type": "code",
   "execution_count": 29,
   "metadata": {},
   "outputs": [
    {
     "data": {
      "text/plain": [
       "0.0"
      ]
     },
     "execution_count": 29,
     "metadata": {},
     "output_type": "execute_result"
    }
   ],
   "source": [
    "# print first element row 0, column 0\n",
    "data[0,0]"
   ]
  },
  {
   "cell_type": "code",
   "execution_count": 30,
   "metadata": {},
   "outputs": [
    {
     "data": {
      "text/plain": [
       "1.0"
      ]
     },
     "execution_count": 30,
     "metadata": {},
     "output_type": "execute_result"
    }
   ],
   "source": [
    "data[0,2]"
   ]
  },
  {
   "cell_type": "code",
   "execution_count": 31,
   "metadata": {},
   "outputs": [],
   "source": [
    "data[0,2] = 100"
   ]
  },
  {
   "cell_type": "code",
   "execution_count": 32,
   "metadata": {},
   "outputs": [
    {
     "name": "stdout",
     "output_type": "stream",
     "text": [
      "[[  0.   0. 100. ...   3.   0.   0.]\n",
      " [  0.   1.   2. ...   1.   0.   1.]\n",
      " [  0.   1.   1. ...   2.   1.   1.]\n",
      " ...\n",
      " [  0.   1.   1. ...   1.   1.   1.]\n",
      " [  0.   0.   0. ...   0.   2.   0.]\n",
      " [  0.   0.   1. ...   1.   1.   0.]]\n"
     ]
    }
   ],
   "source": [
    "print(data)"
   ]
  },
  {
   "cell_type": "code",
   "execution_count": 35,
   "metadata": {},
   "outputs": [
    {
     "data": {
      "text/plain": [
       "array([0., 3.])"
      ]
     },
     "execution_count": 35,
     "metadata": {},
     "output_type": "execute_result"
    }
   ],
   "source": [
    "data[0,[0,10]]"
   ]
  },
  {
   "cell_type": "code",
   "execution_count": 36,
   "metadata": {},
   "outputs": [
    {
     "data": {
      "text/plain": [
       "array([[  0.,   0., 100., ...,   3.,   0.,   0.],\n",
       "       [  0.,   1.,   2., ...,   1.,   0.,   1.],\n",
       "       [  0.,   1.,   1., ...,   2.,   1.,   1.],\n",
       "       ...,\n",
       "       [  0.,   1.,   1., ...,   1.,   1.,   1.],\n",
       "       [  0.,   0.,   0., ...,   0.,   2.,   0.],\n",
       "       [  0.,   0.,   1., ...,   1.,   1.,   0.]])"
      ]
     },
     "execution_count": 36,
     "metadata": {},
     "output_type": "execute_result"
    }
   ],
   "source": [
    "data"
   ]
  },
  {
   "cell_type": "code",
   "execution_count": 40,
   "metadata": {},
   "outputs": [],
   "source": [
    "# create a new array\n",
    "a = np.array([[2,7,12,0],[3,9,3,4],[4,0,1,3]])"
   ]
  },
  {
   "cell_type": "code",
   "execution_count": 41,
   "metadata": {},
   "outputs": [
    {
     "name": "stdout",
     "output_type": "stream",
     "text": [
      "[[ 2  7 12  0]\n",
      " [ 3  9  3  4]\n",
      " [ 4  0  1  3]]\n"
     ]
    }
   ],
   "source": [
    "print(a)"
   ]
  },
  {
   "cell_type": "code",
   "execution_count": 48,
   "metadata": {},
   "outputs": [],
   "source": [
    "b = a[2,[0,2,3]]"
   ]
  },
  {
   "cell_type": "code",
   "execution_count": 49,
   "metadata": {},
   "outputs": [
    {
     "data": {
      "text/plain": [
       "array([4, 1, 3])"
      ]
     },
     "execution_count": 49,
     "metadata": {},
     "output_type": "execute_result"
    }
   ],
   "source": [
    "b"
   ]
  },
  {
   "cell_type": "code",
   "execution_count": 47,
   "metadata": {},
   "outputs": [
    {
     "data": {
      "text/plain": [
       "numpy.ndarray"
      ]
     },
     "execution_count": 47,
     "metadata": {},
     "output_type": "execute_result"
    }
   ],
   "source": [
    "type(b)"
   ]
  },
  {
   "cell_type": "code",
   "execution_count": 50,
   "metadata": {},
   "outputs": [
    {
     "name": "stdout",
     "output_type": "stream",
     "text": [
      "[0 1 2 3]\n"
     ]
    }
   ],
   "source": [
    "a = np.arange(4)\n",
    "print(a)"
   ]
  },
  {
   "cell_type": "code",
   "execution_count": 51,
   "metadata": {},
   "outputs": [],
   "source": [
    "mask = np.array([False,True,True,False])"
   ]
  },
  {
   "cell_type": "code",
   "execution_count": 53,
   "metadata": {},
   "outputs": [
    {
     "name": "stdout",
     "output_type": "stream",
     "text": [
      "[False  True  True False]\n"
     ]
    }
   ],
   "source": [
    "print(mask)"
   ]
  },
  {
   "cell_type": "code",
   "execution_count": 54,
   "metadata": {},
   "outputs": [
    {
     "data": {
      "text/plain": [
       "array([1, 2])"
      ]
     },
     "execution_count": 54,
     "metadata": {},
     "output_type": "execute_result"
    }
   ],
   "source": [
    "a[mask]"
   ]
  },
  {
   "cell_type": "code",
   "execution_count": 55,
   "metadata": {},
   "outputs": [
    {
     "name": "stdout",
     "output_type": "stream",
     "text": [
      "[False  True False  True]\n"
     ]
    }
   ],
   "source": [
    "odd = (a % 2) == 1\n",
    "print(odd)"
   ]
  },
  {
   "cell_type": "code",
   "execution_count": 56,
   "metadata": {},
   "outputs": [
    {
     "data": {
      "text/plain": [
       "array([1, 3])"
      ]
     },
     "execution_count": 56,
     "metadata": {},
     "output_type": "execute_result"
    }
   ],
   "source": [
    "a[odd]"
   ]
  },
  {
   "cell_type": "code",
   "execution_count": 57,
   "metadata": {},
   "outputs": [
    {
     "data": {
      "text/plain": [
       "array([0, 1, 0, 1])"
      ]
     },
     "execution_count": 57,
     "metadata": {},
     "output_type": "execute_result"
    }
   ],
   "source": [
    "a % 2"
   ]
  },
  {
   "cell_type": "code",
   "execution_count": 59,
   "metadata": {},
   "outputs": [
    {
     "data": {
      "text/plain": [
       "array([100.,  12.,  18.,  13.,  11.,  11.,  11.,  16.,  18.,  12.,  12.,\n",
       "        11.,  11.,  15.,  11.,  19.,  14.,  12.,  17.,  12.,  11.,  13.,\n",
       "        15.,  17.,  15.,  11.,  17.,  14.,  13.,  12.,  15.,  16.,  18.,\n",
       "        12.,  12.,  18.,  12.,  11.,  13.,  12.,  17.,  15.,  13.,  15.,\n",
       "        11.,  18.,  19.,  20.,  13.,  15.,  11.,  12.,  11.,  17.,  11.,\n",
       "        16.,  12.,  14.,  13.,  11.,  12.,  13.,  13.,  16.,  18.,  15.,\n",
       "        16.,  14.,  12.,  11.,  13.,  13.,  15.,  18.,  15.,  15.,  16.,\n",
       "        11.,  14.,  12.,  11.,  14.,  11.,  11.,  16.,  18.,  12.,  11.,\n",
       "        12.,  17.,  13.,  15.,  13.,  12.,  12.,  13.,  13.,  16.,  15.,\n",
       "        11.,  11.,  11.,  12.,  13.,  17.,  12.,  13.,  12.,  18.,  17.,\n",
       "        12.,  11.,  11.,  11.,  14.,  11.,  11.,  12.,  12.,  13.,  19.,\n",
       "        14.,  17.,  13.,  11.,  12.,  12.,  14.,  14.,  13.,  19.,  12.,\n",
       "        13.,  11.,  11.,  15.,  17.,  11.,  12.,  12.,  13.,  12.,  13.,\n",
       "        11.,  13.,  16.,  19.,  16.,  11.,  14.,  12.,  11.,  12.,  12.,\n",
       "        15.,  13.,  18.,  19.,  11.,  12.,  12.,  12.,  12.,  16.,  14.,\n",
       "        12.,  12.,  14.,  17.,  13.,  16.,  15.,  13.,  12.,  13.,  14.,\n",
       "        11.,  15.,  14.,  13.,  13.,  14.,  11.,  12.,  12.,  15.,  17.,\n",
       "        16.,  15.,  11.,  12.,  12.,  16.,  17.,  11.,  14.,  13.,  11.,\n",
       "        12.,  12.,  12.,  13.,  13.,  15.,  12.,  18.,  14.,  16.,  12.,\n",
       "        11.,  14.,  15.,  12.,  15.,  15.,  13.,  17.,  11.,  11.,  12.,\n",
       "        19.,  20.,  18.,  14.,  12.,  17.,  16.,  14.,  15.,  17.,  14.,\n",
       "        13.,  12.,  11.,  11.,  14.,  14.,  12.,  16.,  13.,  15.,  13.,\n",
       "        14.,  19.,  15.,  15.,  11.,  11.,  12.,  13.,  15.,  15.,  14.,\n",
       "        11.,  11.,  12.,  12.,  11.,  12.,  12.,  12.,  13.,  11.,  15.,\n",
       "        13.,  12.,  15.,  17.,  19.,  14.,  18.,  12.,  17.,  14.,  13.,\n",
       "        13.,  11.,  11.,  15.,  16.,  17.,  16.,  16.,  16.,  13.,  16.,\n",
       "        12.,  17.,  13.,  15.,  16.,  17.,  14.,  11.,  12.,  15.,  12.,\n",
       "        13.,  13.,  19.,  13.,  13.,  12.,  15.,  16.,  16.,  15.,  14.,\n",
       "        13.,  12.,  13.,  11.,  15.,  18.,  14.,  12.,  11.,  13.,  11.,\n",
       "        17.,  19.,  11.,  12.,  15.,  11.,  12.,  15.,  12.,  16.,  14.,\n",
       "        12.,  11.,  11.,  11.,  19.,  18.,  14.,  15.,  12.,  15.,  11.,\n",
       "        18.,  14.,  15.,  12.,  11.,  16.,  14.,  11.,  11.,  16.,  12.,\n",
       "        15.,  17.,  19.,  18.,  13.,  15.,  11.,  11.,  11.,  13.,  15.,\n",
       "        15.,  14.,  15.,  12.,  11.,  12.,  14.,  12.,  12.,  11.,  16.,\n",
       "        13.,  12.,  12.,  18.,  16.,  16.,  15.,  15.,  11.,  13.,  13.,\n",
       "        14.,  12.,  15.,  15.,  12.,  16.,  20.,  15.,  12.,  12.,  14.,\n",
       "        11.,  15.,  13.,  14.,  11.,  17.,  11.,  11.,  12.,  12.,  11.,\n",
       "        12.,  15.,  15.,  13.,  12.,  13.,  13.,  17.,  16.,  16.,  15.,\n",
       "        12.,  13.,  12.,  11.,  11.,  11.,  16.,  13.,  16.,  16.,  11.,\n",
       "        14.,  16.,  14.,  14.,  17.,  14.,  13.,  14.,  13.,  13.,  12.,\n",
       "        19.,  15.,  12.,  15.,  13.,  18.,  17.,  14.,  13.,  11.,  12.,\n",
       "        14.,  11.,  13.,  18.,  11.,  13.,  11.])"
      ]
     },
     "execution_count": 59,
     "metadata": {},
     "output_type": "execute_result"
    }
   ],
   "source": [
    "# print data > 10\n",
    "data[data>10]"
   ]
  },
  {
   "cell_type": "code",
   "execution_count": 60,
   "metadata": {},
   "outputs": [
    {
     "data": {
      "text/plain": [
       "array([[False, False,  True, ..., False, False, False],\n",
       "       [False, False, False, ..., False, False, False],\n",
       "       [False, False, False, ..., False, False, False],\n",
       "       ...,\n",
       "       [False, False, False, ..., False, False, False],\n",
       "       [False, False, False, ..., False, False, False],\n",
       "       [False, False, False, ..., False, False, False]])"
      ]
     },
     "execution_count": 60,
     "metadata": {},
     "output_type": "execute_result"
    }
   ],
   "source": [
    "data > 10"
   ]
  },
  {
   "cell_type": "code",
   "execution_count": 62,
   "metadata": {},
   "outputs": [
    {
     "data": {
      "text/plain": [
       "array([[2., 3., 0., 0.],\n",
       "       [1., 1., 0., 1.],\n",
       "       [2., 2., 1., 1.]])"
      ]
     },
     "execution_count": 62,
     "metadata": {},
     "output_type": "execute_result"
    }
   ],
   "source": [
    "data[0:3,36:]"
   ]
  },
  {
   "cell_type": "code",
   "execution_count": 63,
   "metadata": {},
   "outputs": [],
   "source": [
    "a = np.array([0,5,8,10])"
   ]
  },
  {
   "cell_type": "code",
   "execution_count": 64,
   "metadata": {},
   "outputs": [
    {
     "data": {
      "text/plain": [
       "array([ 0,  5,  8, 10])"
      ]
     },
     "execution_count": 64,
     "metadata": {},
     "output_type": "execute_result"
    }
   ],
   "source": [
    "a"
   ]
  },
  {
   "cell_type": "code",
   "execution_count": 66,
   "metadata": {},
   "outputs": [
    {
     "data": {
      "text/plain": [
       "array([5, 8])"
      ]
     },
     "execution_count": 66,
     "metadata": {},
     "output_type": "execute_result"
    }
   ],
   "source": [
    "a[[1,2]]"
   ]
  },
  {
   "cell_type": "code",
   "execution_count": 68,
   "metadata": {},
   "outputs": [
    {
     "name": "stdout",
     "output_type": "stream",
     "text": [
      "[0 1 2 3 4 5 6 7 8]\n"
     ]
    }
   ],
   "source": [
    "a = np.arange(9)\n",
    "print(a)"
   ]
  },
  {
   "cell_type": "code",
   "execution_count": 69,
   "metadata": {},
   "outputs": [
    {
     "data": {
      "text/plain": [
       "array([1, 3, 5, 7])"
      ]
     },
     "execution_count": 69,
     "metadata": {},
     "output_type": "execute_result"
    }
   ],
   "source": [
    "# take only 2 after 2 elements\n",
    "a[1:8:2]"
   ]
  },
  {
   "cell_type": "code",
   "execution_count": 71,
   "metadata": {},
   "outputs": [
    {
     "name": "stdout",
     "output_type": "stream",
     "text": [
      "[   0 1000    2 1000    4 1000    6 1000    8]\n"
     ]
    }
   ],
   "source": [
    "a[1:8:2] = 1000\n",
    "print(a)"
   ]
  },
  {
   "cell_type": "code",
   "execution_count": 75,
   "metadata": {},
   "outputs": [
    {
     "name": "stdout",
     "output_type": "stream",
     "text": [
      "a old:[0 1 2 3 4 5 6 7 8]\n",
      "b old:[6 7 8]\n",
      "a:[0 1 2 3 4 5 2 7 8]\n",
      "b:[2 7 8]\n"
     ]
    }
   ],
   "source": [
    "a = np.arange(9)\n",
    "print('a old:{}'.format(a))\n",
    "b=a[6:9]\n",
    "print('b old:{}'.format(b))\n",
    "b[0] = 2\n",
    "print('a:{}'.format(a))\n",
    "print('b:{}'.format(b))\n",
    "# we can see that changing b[0] change element 6 in a into 2\n",
    "# b is not a copy of a, it's a part of a"
   ]
  },
  {
   "cell_type": "code",
   "execution_count": 77,
   "metadata": {},
   "outputs": [
    {
     "name": "stdout",
     "output_type": "stream",
     "text": [
      "a old:[0 1 2 3 4 5 6 7 8]\n",
      "b old:[6 7 8]\n",
      "a:[0 1 2 3 4 5 6 7 8]\n",
      "b:[2 7 8]\n"
     ]
    }
   ],
   "source": [
    "a = np.arange(9)\n",
    "print('a old:{}'.format(a))\n",
    "b = a[a>5]\n",
    "print('b old:{}'.format(b))\n",
    "b[0]=2\n",
    "print('a:{}'.format(a))\n",
    "print('b:{}'.format(b))\n",
    "# change in b has no effect in a\n",
    "# b is a different copy of a part of a"
   ]
  },
  {
   "cell_type": "code",
   "execution_count": 86,
   "metadata": {},
   "outputs": [
    {
     "name": "stdout",
     "output_type": "stream",
     "text": [
      "[0 1 2 3 4]\n",
      "[0 1 2]\n",
      "[0 1 0]\n"
     ]
    }
   ],
   "source": [
    "a = np.arange(5)\n",
    "print(a)\n",
    "b = a[a<3]\n",
    "print(b)\n",
    "b[::2] = 0 # take values by step 2\n",
    "print(b)"
   ]
  },
  {
   "cell_type": "code",
   "execution_count": 91,
   "metadata": {},
   "outputs": [
    {
     "name": "stdout",
     "output_type": "stream",
     "text": [
      "[ 0  1  2  3  4  5  6  7  8  9 10 11]\n",
      "2\n",
      "[ 0  1  2  3  4  5  6  7  8  9 10 11]\n"
     ]
    }
   ],
   "source": [
    "x = np.arange(12)\n",
    "print(a)\n",
    "y=x[2]\n",
    "print(y)\n",
    "y=10\n",
    "print(x)"
   ]
  },
  {
   "cell_type": "code",
   "execution_count": 116,
   "metadata": {},
   "outputs": [
    {
     "name": "stdout",
     "output_type": "stream",
     "text": [
      "[[0. 0. 0. 0. 0. 0. 0. 0.]\n",
      " [0. 0. 0. 0. 0. 0. 0. 0.]\n",
      " [0. 0. 0. 0. 0. 0. 0. 0.]\n",
      " [0. 0. 0. 0. 0. 0. 0. 0.]\n",
      " [0. 0. 0. 0. 0. 0. 0. 0.]\n",
      " [0. 0. 0. 0. 0. 0. 0. 0.]\n",
      " [0. 0. 0. 0. 0. 0. 0. 0.]\n",
      " [0. 0. 0. 0. 0. 0. 0. 0.]]\n",
      "\n",
      "\n",
      "[[0. 0. 0. 0. 0. 0. 0. 0.]\n",
      " [1. 0. 1. 0. 1. 0. 1. 0.]\n",
      " [0. 0. 0. 0. 0. 0. 0. 0.]\n",
      " [1. 0. 1. 0. 1. 0. 1. 0.]\n",
      " [0. 0. 0. 0. 0. 0. 0. 0.]\n",
      " [1. 0. 1. 0. 1. 0. 1. 0.]\n",
      " [0. 0. 0. 0. 0. 0. 0. 0.]\n",
      " [1. 0. 1. 0. 1. 0. 1. 0.]]\n",
      "\n",
      "\n",
      "[[0. 1. 0. 1. 0. 1. 0. 1.]\n",
      " [1. 0. 1. 0. 1. 0. 1. 0.]\n",
      " [0. 1. 0. 1. 0. 1. 0. 1.]\n",
      " [1. 0. 1. 0. 1. 0. 1. 0.]\n",
      " [0. 1. 0. 1. 0. 1. 0. 1.]\n",
      " [1. 0. 1. 0. 1. 0. 1. 0.]\n",
      " [0. 1. 0. 1. 0. 1. 0. 1.]\n",
      " [1. 0. 1. 0. 1. 0. 1. 0.]]\n"
     ]
    }
   ],
   "source": [
    "a = np.zeros((8,8))\n",
    "print(a)\n",
    "a[1::2,::2] = 1 # for row[1:] by step 2 add 1 to column[:] by step 2\n",
    "print('\\n')\n",
    "print(a)\n",
    "a[::2,1::2] = 1 # for row[:] by step 2 add 1 to column[1:] by step 2\n",
    "print(\"\\n\")\n",
    "print(a)"
   ]
  },
  {
   "cell_type": "code",
   "execution_count": 118,
   "metadata": {},
   "outputs": [
    {
     "data": {
      "image/png": "[encoded data removed]",
      "text/plain": [
       "<Figure size 432x288 with 1 Axes>"
      ]
     },
     "metadata": {
      "needs_background": "light"
     },
     "output_type": "display_data"
    }
   ],
   "source": [
    "import matplotlib.pylab as plt\n",
    "plt.imshow(a)\n",
    "plt.show()"
   ]
  },
  {
   "cell_type": "code",
   "execution_count": 122,
   "metadata": {},
   "outputs": [
    {
     "name": "stdout",
     "output_type": "stream",
     "text": [
      "[[  0.   0. 100. ...   3.   0.   0.]\n",
      " [  0.   1.   2. ...   1.   0.   1.]\n",
      " [  0.   1.   1. ...   2.   1.   1.]\n",
      " ...\n",
      " [  0.   1.   1. ...   1.   1.   1.]\n",
      " [  0.   0.   0. ...   0.   2.   0.]\n",
      " [  0.   0.   1. ...   1.   1.   0.]]\n",
      "[[  0.   0. 200. ...   6.   0.   0.]\n",
      " [  0.   2.   4. ...   2.   0.   2.]\n",
      " [  0.   2.   2. ...   4.   2.   2.]\n",
      " ...\n",
      " [  0.   2.   2. ...   2.   2.   2.]\n",
      " [  0.   0.   0. ...   0.   4.   0.]\n",
      " [  0.   0.   2. ...   2.   2.   0.]]\n"
     ]
    }
   ],
   "source": [
    "doubledata = data + data\n",
    "print(data)\n",
    "print(doubledata)"
   ]
  },
  {
   "cell_type": "code",
   "execution_count": 123,
   "metadata": {},
   "outputs": [
    {
     "name": "stdout",
     "output_type": "stream",
     "text": [
      "[ 0.          0.         -0.50636564  0.14112001  0.84147098  0.90929743\n",
      " -0.7568025   0.6569866   0.98935825  0.14112001  0.14112001  0.14112001\n",
      " -0.54402111 -0.95892427  0.6569866  -0.7568025   0.6569866   0.6569866\n",
      " -0.53657292 -0.75098725 -0.2794155   0.42016704 -0.99999021 -0.99999021\n",
      "  0.6569866   0.6569866  -0.7568025  -0.2794155   0.98935825  0.98935825\n",
      " -0.7568025  -0.7568025  -0.95892427  0.6569866   0.14112001 -0.7568025\n",
      "  0.90929743  0.14112001  0.          0.        ]\n"
     ]
    }
   ],
   "source": [
    "y = np.sin(data[0, :])\n",
    "print(y)"
   ]
  },
  {
   "cell_type": "code",
   "execution_count": 124,
   "metadata": {},
   "outputs": [
    {
     "name": "stdout",
     "output_type": "stream",
     "text": [
      "[1.00000000e+00 1.00000000e+00 2.68811714e+43 2.00855369e+01\n",
      " 2.71828183e+00 7.38905610e+00 5.45981500e+01 1.09663316e+03\n",
      " 2.98095799e+03 2.00855369e+01 2.00855369e+01 2.00855369e+01\n",
      " 2.20264658e+04 1.48413159e+02 1.09663316e+03 5.45981500e+01\n",
      " 1.09663316e+03 1.09663316e+03 1.62754791e+05 6.56599691e+07\n",
      " 4.03428793e+02 4.42413392e+05 5.98741417e+04 5.98741417e+04\n",
      " 1.09663316e+03 1.09663316e+03 5.45981500e+01 4.03428793e+02\n",
      " 2.98095799e+03 2.98095799e+03 5.45981500e+01 5.45981500e+01\n",
      " 1.48413159e+02 1.09663316e+03 2.00855369e+01 5.45981500e+01\n",
      " 7.38905610e+00 2.00855369e+01 1.00000000e+00 1.00000000e+00]\n"
     ]
    }
   ],
   "source": [
    "expdata = np.exp(data[0, :])\n",
    "print(expdata)"
   ]
  },
  {
   "cell_type": "code",
   "execution_count": 125,
   "metadata": {},
   "outputs": [
    {
     "name": "stdout",
     "output_type": "stream",
     "text": [
      "14856.0\n"
     ]
    }
   ],
   "source": [
    "sumdata= np.sum(data)\n",
    "print(sumdata)"
   ]
  },
  {
   "cell_type": "code",
   "execution_count": 127,
   "metadata": {},
   "outputs": [
    {
     "name": "stdout",
     "output_type": "stream",
     "text": [
      "6.19\n"
     ]
    }
   ],
   "source": [
    "meandata= np.mean(data)\n",
    "print(meandata)"
   ]
  },
  {
   "cell_type": "code",
   "execution_count": 128,
   "metadata": {},
   "outputs": [
    {
     "data": {
      "text/plain": [
       "7.925"
      ]
     },
     "execution_count": 128,
     "metadata": {},
     "output_type": "execute_result"
    }
   ],
   "source": [
    "np.mean(data[0,:])"
   ]
  },
  {
   "cell_type": "code",
   "execution_count": 133,
   "metadata": {},
   "outputs": [
    {
     "name": "stdout",
     "output_type": "stream",
     "text": [
      "(1000, 3)\n"
     ]
    }
   ],
   "source": [
    "a = np.random.randn(1000,3)\n",
    "print(a.shape)"
   ]
  },
  {
   "cell_type": "code",
   "execution_count": 134,
   "metadata": {},
   "outputs": [
    {
     "name": "stdout",
     "output_type": "stream",
     "text": [
      "(1000, 2)\n"
     ]
    }
   ],
   "source": [
    "a_select = a[:, [1,2]]\n",
    "print(a_select.shape)"
   ]
  },
  {
   "cell_type": "code",
   "execution_count": 138,
   "metadata": {},
   "outputs": [
    {
     "name": "stdout",
     "output_type": "stream",
     "text": [
      "[0.03861788 0.02949556]\n"
     ]
    }
   ],
   "source": [
    "mean_select = np.mean(a_select, axis=0) # compute mean on the two column\n",
    "print(mean_select)"
   ]
  },
  {
   "cell_type": "code",
   "execution_count": 7,
   "metadata": {},
   "outputs": [
    {
     "name": "stdout",
     "output_type": "stream",
     "text": [
      "[[0.05533699 0.13550033 0.68208549]\n",
      " [0.30804286 0.03465345 0.5720338 ]\n",
      " [0.3248615  0.70232263 0.72264381]\n",
      " [0.75277949 0.35405893 0.89254855]\n",
      " [0.34579417 0.09676186 0.72026793]\n",
      " [0.77980264 0.62899448 0.10125438]\n",
      " [0.63122371 0.48629788 0.82904435]\n",
      " [0.39824731 0.8357205  0.41413947]\n",
      " [0.84333117 0.49216744 0.07068096]\n",
      " [0.47427748 0.50887979 0.71124076]]\n",
      "[[-0.69466301 -0.61449967 -0.06791451]\n",
      " [-0.44195714 -0.71534655 -0.1779662 ]\n",
      " [-0.4251385  -0.04767737 -0.02735619]\n",
      " [ 0.00277949 -0.39594107  0.14254855]\n",
      " [-0.40420583 -0.65323814 -0.02973207]\n",
      " [ 0.02980264 -0.12100552 -0.64874562]\n",
      " [-0.11877629 -0.26370212  0.07904435]\n",
      " [-0.35175269  0.0857205  -0.33586053]\n",
      " [ 0.09333117 -0.25783256 -0.67931904]\n",
      " [-0.27572252 -0.24112021 -0.03875924]]\n",
      "[2 2 2 0 2 0 2 1 0 2]\n"
     ]
    }
   ],
   "source": [
    "rand_array = np.random.rand(10,3)\n",
    "print(rand_array)\n",
    "rand_array2 = rand_array - 0.75\n",
    "print(rand_array2)\n",
    "closest = np.argmin(np.abs(rand_array2), axis=1) \n",
    "# argmin gives the indices of min values in each row\n",
    "print(closest)"
   ]
  },
  {
   "cell_type": "code",
   "execution_count": null,
   "metadata": {},
   "outputs": [],
   "source": [
    "np.argmin()"
   ]
  }
 ],
 "metadata": {
  "kernelspec": {
   "display_name": "Python 3",
   "language": "python",
   "name": "python3"
  },
  "language_info": {
   "codemirror_mode": {
    "name": "ipython",
    "version": 3
   },
   "file_extension": ".py",
   "mimetype": "text/x-python",
   "name": "python",
   "nbconvert_exporter": "python",
   "pygments_lexer": "ipython3",
   "version": "3.6.8"
  }
 },
 "nbformat": 4,
 "nbformat_minor": 2
}
